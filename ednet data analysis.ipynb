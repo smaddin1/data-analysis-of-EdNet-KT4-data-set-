{
  "nbformat": 4,
  "nbformat_minor": 0,
  "metadata": {
    "colab": {
      "provenance": []
    },
    "kernelspec": {
      "name": "python3",
      "display_name": "Python 3"
    },
    "language_info": {
      "name": "python"
    }
  },
  "cells": [
    {
      "cell_type": "markdown",
      "source": [
        "\n",
        "You are just hired as a data analyst in the newly formed analytics department of RiiiD, which is a leading AI startup company specializing in providing learning resources and adaptive practices to English learners in South Korea. On the first day of your job, you are invited to attend a meeting with the business operation team in which you are briefed on the company’s platform. Then you are handed over a dataset (‘EdNet’) collected from this platform over the last two years from over 700K users. This dataset logged detailed user activities while they were interacting with systems.  Intrigued by the sheer amount of data collected, your manager is interested in how the analytics department can help to support the company's missions to reimagine the learner’s experience using AI/ML/data analytics techniques. You are asked to look into the data and prepare a brief for your manager. Specifically, your manager is looking for answers to the following questions. \n",
        "\n"
      ],
      "metadata": {
        "id": "bKpoKCitwV-4"
      }
    },
    {
      "cell_type": "code",
      "execution_count": 2,
      "metadata": {
        "colab": {
          "base_uri": "https://localhost:8080/"
        },
        "id": "QII5iP60YRDJ",
        "outputId": "77c62693-405c-4adf-8679-cf75d44da1bd"
      },
      "outputs": [
        {
          "output_type": "stream",
          "name": "stdout",
          "text": [
            "Mounted at /drive\n"
          ]
        }
      ],
      "source": [
        "import pandas as pd\n",
        "import numpy\n",
        "from google.colab import drive\n",
        "drive.mount('/drive')"
      ]
    },
    {
      "cell_type": "code",
      "source": [
        "import glob\n"
      ],
      "metadata": {
        "id": "Kx6NJEaPYVIV"
      },
      "execution_count": 3,
      "outputs": []
    },
    {
      "cell_type": "code",
      "source": [
        "path=\"/drive/My Drive/EdNet-KT4/KT4/\"\n",
        "all_files=glob.glob(path+\"*.csv\")\n",
        "\n",
        "all_files"
      ],
      "metadata": {
        "id": "pjMpXlJdYZsp"
      },
      "execution_count": null,
      "outputs": []
    },
    {
      "cell_type": "code",
      "source": [
        "li_mape=map(lambda filename:pd.read_csv(filename),all_files[:100])\n",
        "lis=list(li_mape)\n",
        "questions=pd.read_csv('/drive/My Drive/EdNet-Contents/contents/questions.csv')\n",
        "payements=pd.read_csv('/drive/My Drive/EdNet-Contents/contents/payments.csv')\n",
        "lectures=pd.read_csv('/drive/My Drive/EdNet-Contents/contents/lectures.csv')\n",
        "coupons=pd.read_csv('/drive/My Drive/EdNet-Contents/contents/coupons.csv')\n"
      ],
      "metadata": {
        "id": "3DfJnvHwYd6l"
      },
      "execution_count": 5,
      "outputs": []
    },
    {
      "cell_type": "markdown",
      "source": [
        "Who are the users?  To answer this question, you will need to compile a user profile table (Table 1) with information about users, including\n",
        "Overall practice volume and performance (e.g. # of questions answered, % of questions answered correctly)\n",
        "Learning activity (e.g. # lectures watched, # explanation read)\n",
        "Add three additional metrics you would like to compute to describe users\n",
        "\n",
        "Create a few plots to illustrate the information in the tables. Feel free to choose the type of plot you think is appropriate.  \n"
      ],
      "metadata": {
        "id": "TSfCzTpqwLbv"
      }
    },
    {
      "cell_type": "code",
      "source": [
        "user_profile_df = pd.DataFrame(columns=['user_id', 'questions_answered', 'percent_correct', 'learning_activity'])\n",
        "\n",
        "#iterating through 100 student files\n",
        "for i in range(100):\n",
        "  lis_pd=pd.DataFrame(lis[i])\n",
        "  #adding a user_id with respective the number of the file\n",
        "  lis_pd['user_id'] = i\n",
        " #merge the student data with the questions dataframe on the 'item_id' column\n",
        "  merged_df = pd.merge(lis_pd, questions, left_on='item_id', right_on='question_id', how='left')\n",
        "  # Create a new column called 'correct' that indicates whether the student's answer matches the correct answer\n",
        "  merged_df['correct'] = merged_df.apply(lambda x: x['user_answer'] == x['correct_answer'], axis=1)\n",
        "  # Group the data by 'user_id' and aggregate the relevant columns\n",
        "  student_profile_df = merged_df.groupby('user_id').agg({'question_id': 'count', 'correct': 'mean', 'cursor_time': 'sum','source': lambda x: x.mode().iat[0],'action_type':lambda x: x.mode().iat[0]})\n",
        "  # Rename the columns to more meaningful names\n",
        "  student_profile_df.rename(columns={'question_id': 'questions_answered', 'correct': 'percent_correct', 'cursor_time': 'learning_activity'}, inplace=True)\n",
        "  student_profile_df['percent_correct'] = student_profile_df['percent_correct'] * 100\n",
        "  user_profile_df = user_profile_df.append(student_profile_df)\n",
        "\n",
        "print(user_profile_df)"
      ],
      "metadata": {
        "colab": {
          "base_uri": "https://localhost:8080/"
        },
        "id": "FPFYK5NyYmx1",
        "outputId": "aa8c28bd-573e-48e6-bc96-e36c31617d58"
      },
      "execution_count": 7,
      "outputs": [
        {
          "output_type": "stream",
          "name": "stdout",
          "text": [
            "   user_id questions_answered  percent_correct  learning_activity     source  \\\n",
            "0      NaN                  6        11.111111                0.0  diagnosis   \n",
            "1      NaN                  7        13.043478            22778.0  diagnosis   \n",
            "2      NaN                 14        23.684211            25286.0  diagnosis   \n",
            "3      NaN                 10         5.882353           111321.0  diagnosis   \n",
            "4      NaN                  5        23.529412            16588.0  diagnosis   \n",
            "..     ...                ...              ...                ...        ...   \n",
            "95     NaN                586         8.914597          9764982.0     sprint   \n",
            "96     NaN                  7         3.448276            34796.0  diagnosis   \n",
            "97     NaN                  9        17.241379                0.0  diagnosis   \n",
            "98     NaN                  5         7.692308                0.0  diagnosis   \n",
            "99     NaN                 13        15.151515            21768.0  diagnosis   \n",
            "\n",
            "   action_type  \n",
            "0        enter  \n",
            "1        enter  \n",
            "2        enter  \n",
            "3      respond  \n",
            "4        enter  \n",
            "..         ...  \n",
            "95       enter  \n",
            "96       enter  \n",
            "97       enter  \n",
            "98       enter  \n",
            "99     respond  \n",
            "\n",
            "[100 rows x 6 columns]\n"
          ]
        }
      ]
    },
    {
      "cell_type": "code",
      "source": [
        "import matplotlib.pyplot as plt"
      ],
      "metadata": {
        "id": "c5DEqrbZaXoJ"
      },
      "execution_count": 8,
      "outputs": []
    },
    {
      "cell_type": "markdown",
      "source": [
        "What are the questions/items? To answer this question, you will need to compile a question profile table (Table 2)  with at least the following information including\n",
        "Question ID\n",
        "Question Type\n",
        "Number of times being practiced\n",
        "Number of times answered correctly\n",
        "\n",
        "Create a few plots to illustrate the information in the tables. Feel free to choose the type of plot you think is appropriate.\n"
      ],
      "metadata": {
        "id": "HNLHegPvwFWZ"
      }
    },
    {
      "cell_type": "code",
      "source": [
        "# Create an empty list to store the user profile dataframes\n",
        "user_profiles = []\n",
        "\n",
        "# Loop through the student data\n",
        "for i in range(100):\n",
        "    student_df=pd.DataFrame(lis[i])\n",
        "    student_df['user_id'] = i\n",
        "    \n",
        "    # Merge the student data with the questions dataframe on the 'item_id' column\n",
        "    merged_df = pd.merge(student_df, questions, left_on='item_id', right_on='question_id', how='left')\n",
        "    # Create a new column called 'correct' that indicates whether the student's answer matches the correct answer\n",
        "    merged_df['correct'] = merged_df.apply(lambda x: x['user_answer'] == x['correct_answer'], axis=1)\n",
        "    # Group the data by 'user_id' and aggregate the relevant columns\n",
        "    user_profile_df = merged_df.groupby('user_id').agg({'timestamp': 'count', 'correct': 'mean', 'cursor_time': 'sum', 'source': 'nunique', 'platform': 'nunique','action_type':lambda x: x.mode().iat[0]})\n",
        "    # Rename the columns to more meaningful names\n",
        "    user_profile_df.rename(columns={'timestamp': 'questions_answered', 'correct': 'percent_correct', 'cursor_time': 'total_cursor_time', 'source': 'num_sources_used', 'platform': 'num_platforms_used','action_type':'most frequent action'}, inplace=True)\n",
        "    # Calculate the percentage of questions answered correctly\n",
        "    user_profile_df['percent_correct'] = user_profile_df['percent_correct'] * 100\n",
        "    # Append the user profile dataframe to the list\n",
        "    user_profiles.append(user_profile_df)\n",
        "\n",
        "# Concatenate the list of user profile dataframes into a single dataframe\n",
        "user_profiles_df = pd.concat(user_profiles)\n",
        "\n",
        "# Print the user profiles dataframe\n",
        "print(user_profiles_df)\n",
        "\n",
        "\n",
        "\n",
        "# Create a histogram to visualize the distribution of questions answered per user\n",
        "\n",
        "plt.hist(user_profiles_df['questions_answered'], bins=20,alpha=0.5,label='x')\n",
        "#plt.hist(user_profile_df['total_cursor_time'],bins,alpha=0.5)\n",
        "plt.show()\n"
      ],
      "metadata": {
        "colab": {
          "base_uri": "https://localhost:8080/",
          "height": 791
        },
        "id": "vbPG84YqfDs4",
        "outputId": "ca028411-4dc1-43bf-d674-9bbd97177804"
      },
      "execution_count": 9,
      "outputs": [
        {
          "output_type": "stream",
          "name": "stdout",
          "text": [
            "         questions_answered  percent_correct  total_cursor_time  \\\n",
            "user_id                                                           \n",
            "0                        18        11.111111                0.0   \n",
            "1                        23        13.043478            22778.0   \n",
            "2                        38        23.684211            25286.0   \n",
            "3                        34         5.882353           111321.0   \n",
            "4                        17        23.529412            16588.0   \n",
            "...                     ...              ...                ...   \n",
            "95                     2939         8.914597          9764982.0   \n",
            "96                       29         3.448276            34796.0   \n",
            "97                       29        17.241379                0.0   \n",
            "98                       13         7.692308                0.0   \n",
            "99                       33        15.151515            21768.0   \n",
            "\n",
            "         num_sources_used  num_platforms_used most frequent action  \n",
            "user_id                                                             \n",
            "0                       1                   1                enter  \n",
            "1                       1                   1                enter  \n",
            "2                       1                   1                enter  \n",
            "3                       1                   1              respond  \n",
            "4                       1                   1                enter  \n",
            "...                   ...                 ...                  ...  \n",
            "95                      7                   2                enter  \n",
            "96                      1                   1                enter  \n",
            "97                      2                   1                enter  \n",
            "98                      1                   1                enter  \n",
            "99                      1                   1              respond  \n",
            "\n",
            "[100 rows x 6 columns]\n"
          ]
        },
        {
          "output_type": "display_data",
          "data": {
            "text/plain": [
              "<Figure size 432x288 with 1 Axes>"
            ],
            "image/png": "[encoded data removed]"
          },
          "metadata": {
            "needs_background": "light"
          }
        }
      ]
    },
    {
      "cell_type": "markdown",
      "source": [
        "Design a modified metric of “accuracy” to fairly describe users’ ability by considering the difficulty level derived from Table 2.  Be creative. Describe the procedure to compute\n",
        " the metrics.  Be sure to be specific so that interns can use your pseudo code to implement the metrics without much trouble. Implement the proposed metrics and plot a histogram of\n",
        "  the metrics across all users (or a subset of users of your choice) and interpret the results.\n"
      ],
      "metadata": {
        "id": "EDwBuo-NwQk8"
      }
    },
    {
      "cell_type": "code",
      "source": [
        "merged_df = pd.DataFrame()\n",
        "\n",
        "for i in range(1,100):\n",
        "    global merged_df\n",
        "    student_df=pd.DataFrame(lis[i])\n",
        "    student_df['user_id'] = i\n",
        "    merged_df = pd.concat([merged_df, student_df])\n",
        "\n",
        "#print(merged_df)\n",
        "\n",
        "# Merge the student data with the questions dataframe on the 'item_id' column\n",
        "#merged_df = pd.concat([ pd.DataFrame(lis[i]) for i in range(100)])\n",
        "\n",
        "merged_df = pd.merge(merged_df, questions, left_on='item_id', right_on='question_id', how='left')\n",
        "#print(merged_df)\n",
        "# Create a new column called 'correct' that indicates whether the student's answer matches the correct answer\n",
        "merged_df['correct'] = merged_df.apply(lambda x: x['user_answer'] == x['correct_answer'], axis=1)\n",
        "\n",
        "# Create a question profile table by grouping the data by 'question_id' and aggregating relevant columns\n",
        "question_profile_df = merged_df.groupby('question_id').agg({'timestamp': 'count', 'correct': 'sum', 'part': 'max', 'tags': 'max','user_id':'count'}).reset_index()\n",
        "\n",
        "# Rename the columns to more meaningful names\n",
        "question_profile_df.rename(columns={'timestamp': 'times_practiced', 'correct': 'times_answered_correctly','user_id':'no.of students did that question'}, inplace=True)\n",
        "\n",
        "\n",
        "\n",
        "# Print the question profile dataframe\n",
        "print(question_profile_df)\n",
        "\n",
        "# Create a bar plot to visualize the distribution of times answered correctly for each question\n",
        "plt.bar(question_profile_df['question_id'], question_profile_df['times_answered_correctly'])\n",
        "plt.xlabel('Question ID')\n",
        "plt.ylabel('Times Answered Correctly')\n",
        "plt.show()\n",
        "\n",
        "# Create a pie chart to visualize the distribution of questions by part\n",
        "plt.pie(question_profile_df.groupby('part')['question_id'].count(), labels=question_profile_df['part'].unique(), autopct='%1.1f%%')\n",
        "plt.show()"
      ],
      "metadata": {
        "colab": {
          "base_uri": "https://localhost:8080/",
          "height": 1000
        },
        "id": "Cj-dslOxhnoM",
        "outputId": "22dad1dd-81bc-4ecc-d7c1-ce2f670012ab"
      },
      "execution_count": 15,
      "outputs": [
        {
          "output_type": "stream",
          "name": "stdout",
          "text": [
            "     question_id  times_practiced  times_answered_correctly  part  \\\n",
            "0            q10                9                         2   1.0   \n",
            "1           q100                1                         1   1.0   \n",
            "2          q1000                1                         1   2.0   \n",
            "3         q10013                1                         1   5.0   \n",
            "4         q10025                2                         0   5.0   \n",
            "...          ...              ...                       ...   ...   \n",
            "2488       q9985                2                         1   5.0   \n",
            "2489       q9991                1                         1   5.0   \n",
            "2490       q9996                2                         1   5.0   \n",
            "2491       q9997                5                         3   5.0   \n",
            "2492       q9998                1                         1   5.0   \n",
            "\n",
            "               tags  no.of students did that question  \n",
            "0          17;7;182                                 9  \n",
            "1          22;2;181                                 1  \n",
            "2     24;33;182;183                                 1  \n",
            "3                78                                 1  \n",
            "4                78                                 2  \n",
            "...             ...                               ...  \n",
            "2488             83                                 2  \n",
            "2489             83                                 1  \n",
            "2490             83                                 2  \n",
            "2491             83                                 5  \n",
            "2492             83                                 1  \n",
            "\n",
            "[2493 rows x 6 columns]\n"
          ]
        },
        {
          "output_type": "display_data",
          "data": {
            "text/plain": [
              "<Figure size 432x288 with 1 Axes>"
            ],
            "image/png": "[encoded data removed]"
          },
          "metadata": {
            "needs_background": "light"
          }
        },
        {
          "output_type": "display_data",
          "data": {
            "text/plain": [
              "<Figure size 432x288 with 1 Axes>"
            ],
            "image/png": "[encoded data removed]"
          },
          "metadata": {}
        }
      ]
    },
    {
      "cell_type": "markdown",
      "source": [
        "Pick a user with a reasonable amount of activity (you will need to define the “reasonableness” and specify the criteria) and create a dashboard that consists of a \n",
        "series of plots to tell a story of this user’s activity patterns. For inspiration, you may look at the user dashboard for fitness trackers such as Fitbit. \n",
        "\n"
      ],
      "metadata": {
        "id": "ux0C2AsSwUBx"
      }
    },
    {
      "cell_type": "code",
      "source": [
        "\n",
        "\n",
        "\n",
        "\n",
        "\n",
        "\n",
        "# Create a new column in the question profile table called 'difficulty_level'\n",
        "# that indicates the difficulty level of each question, for example by using the tags column\n",
        "question_profile_df['difficulty_level'] = question_profile_df.apply(lambda x: 1 if 'easy' in x['tags'] else 2 if 'medium' in x['tags'] else 3, axis=1)\n",
        "\n",
        "# Create a new column in the question profile table that indicates the weighted accuracy\n",
        "question_profile_df['weighted_accuracy'] = question_profile_df.apply(lambda x: (x['times_answered_correctly']/x['times_practiced'])*x['difficulty_level'], axis=1)\n",
        "\n",
        "# Create a user_profile_df by grouping the question profile dataframe by 'user_id' and computing the average weighted accuracy\n",
        "user_profile_df = question_profile_df.groupby('question_id').agg({'weighted_accuracy': 'mean'}).reset_index()\n",
        "\n",
        "# Print the user profile dataframe\n",
        "print(user_profile_df)\n",
        "\n",
        "# Plot a histogram of the modified accuracy metric across all users\n",
        "plt.hist(user_profile_df['weighted_accuracy'], bins=20)\n",
        "plt.xlabel('Weighted Accuracy')\n",
        "plt.ylabel('Number of Users')\n",
        "plt.show()"
      ],
      "metadata": {
        "colab": {
          "base_uri": "https://localhost:8080/",
          "height": 533
        },
        "id": "wk-N_sV-mtGm",
        "outputId": "017732c4-4cc6-462d-91b4-7ca6f786c650"
      },
      "execution_count": 16,
      "outputs": [
        {
          "output_type": "stream",
          "name": "stdout",
          "text": [
            "     question_id  weighted_accuracy\n",
            "0            q10           0.666667\n",
            "1           q100           3.000000\n",
            "2          q1000           3.000000\n",
            "3         q10013           3.000000\n",
            "4         q10025           0.000000\n",
            "...          ...                ...\n",
            "2488       q9985           1.500000\n",
            "2489       q9991           3.000000\n",
            "2490       q9996           1.500000\n",
            "2491       q9997           1.800000\n",
            "2492       q9998           3.000000\n",
            "\n",
            "[2493 rows x 2 columns]\n"
          ]
        },
        {
          "output_type": "display_data",
          "data": {
            "text/plain": [
              "<Figure size 432x288 with 1 Axes>"
            ],
            "image/png": "[encoded data removed]"
          },
          "metadata": {
            "needs_background": "light"
          }
        }
      ]
    },
    {
      "cell_type": "code",
      "source": [],
      "metadata": {
        "id": "boZygTD1oMxN"
      },
      "execution_count": null,
      "outputs": []
    }
  ]
}